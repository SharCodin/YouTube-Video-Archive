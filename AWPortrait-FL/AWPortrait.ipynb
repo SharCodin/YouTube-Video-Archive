{
 "cells": [
  {
   "cell_type": "code",
   "execution_count": null,
   "id": "894df03b-2b42-43d5-bb82-eeab8ba4916b",
   "metadata": {},
   "outputs": [],
   "source": [
    "# !pip install --upgrade diffusers accelerate transformers"
   ]
  },
  {
   "cell_type": "code",
   "execution_count": null,
   "id": "d7d6ba2d-67ab-48ba-a070-7e684596532e",
   "metadata": {},
   "outputs": [],
   "source": [
    "import torch\n",
    "from diffusers import FluxPipeline"
   ]
  },
  {
   "cell_type": "code",
   "execution_count": null,
   "id": "6841aff0-8c0c-4fcf-b437-376eacc7d662",
   "metadata": {},
   "outputs": [],
   "source": [
    "!pip install -U sentencepiece\n",
    "!pip install protobuf"
   ]
  },
  {
   "cell_type": "code",
   "execution_count": null,
   "id": "02eeab76-d76b-400e-bc35-11e48e94eac3",
   "metadata": {},
   "outputs": [],
   "source": [
    "pipe = FluxPipeline.from_pretrained(\"Shakker-Labs/AWPortrait-FL\", torch_dtype=torch.bfloat16)\n",
    "pipe.to(\"cuda\")"
   ]
  },
  {
   "cell_type": "code",
   "execution_count": null,
   "id": "0a3f4af5-af44-4d0d-9fac-27e83b113d8c",
   "metadata": {},
   "outputs": [],
   "source": [
    "prompt = (\n",
    "    \"close up portrait, Amidst the interplay of light and shadows in a photography studio,\"\n",
    "    \"a soft spotlight traces the contours of a face,highlighting a figure clad in a sleek \"\n",
    "    \"black turtleneck. The garment,hugging the skin with subtle luxury,complements the \"\n",
    "    \"Caucasian model's understated makeup,embodying minimalist elegance. Behind,a pale gray\"\n",
    "    \" backdrop extends,its fine texture shimmering subtly in the dim light,artfully \"\n",
    "    \"balancing the composition and focusing attention on the subject. In a palette of \"\n",
    "    \"black,gray,and skin tones,simplicity intertwines with profundity,as every detail \"\n",
    "    \"whispers untold stories.\"\n",
    ")\n",
    "prompt"
   ]
  },
  {
   "cell_type": "code",
   "execution_count": null,
   "id": "86092fcd-9f66-40be-8e9f-0204744176bf",
   "metadata": {},
   "outputs": [],
   "source": [
    "image = pipe(prompt, \n",
    "             num_inference_steps=24, \n",
    "             guidance_scale=3.5,\n",
    "             width=768, height=1024,\n",
    "            ).images[0]\n",
    "image.save(f\"example.png\")"
   ]
  },
  {
   "cell_type": "code",
   "execution_count": null,
   "id": "24e179c4-071d-4697-9f07-be3955e3dc3c",
   "metadata": {},
   "outputs": [],
   "source": []
  }
 ],
 "metadata": {
  "kernelspec": {
   "display_name": "Python 3 (ipykernel)",
   "language": "python",
   "name": "python3"
  },
  "language_info": {
   "codemirror_mode": {
    "name": "ipython",
    "version": 3
   },
   "file_extension": ".py",
   "mimetype": "text/x-python",
   "name": "python",
   "nbconvert_exporter": "python",
   "pygments_lexer": "ipython3",
   "version": "3.10.14"
  }
 },
 "nbformat": 4,
 "nbformat_minor": 5
}
